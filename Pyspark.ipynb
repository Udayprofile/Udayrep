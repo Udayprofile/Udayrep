{
  "nbformat": 4,
  "nbformat_minor": 0,
  "metadata": {
    "colab": {
      "provenance": []
    },
    "kernelspec": {
      "name": "python3",
      "display_name": "Python 3"
    },
    "language_info": {
      "name": "python"
    }
  },
  "cells": [
    {
      "cell_type": "code",
      "execution_count": 1,
      "metadata": {
        "colab": {
          "base_uri": "https://localhost:8080/"
        },
        "id": "jiL1fhrOlpm8",
        "outputId": "b9cbca69-95d7-441e-9c2d-22cd7db36759"
      },
      "outputs": [
        {
          "output_type": "stream",
          "name": "stdout",
          "text": [
            "Requirement already satisfied: pyspark in /usr/local/lib/python3.11/dist-packages (3.5.4)\n",
            "Requirement already satisfied: py4j==0.10.9.7 in /usr/local/lib/python3.11/dist-packages (from pyspark) (0.10.9.7)\n"
          ]
        }
      ],
      "source": [
        "!pip install pyspark\n"
      ]
    },
    {
      "cell_type": "code",
      "source": [
        "from pyspark.sql import SparkSession\n",
        "spark = SparkSession.builder.appName(\"PySparkExample\").getOrCreate()\n",
        "\n",
        "\n"
      ],
      "metadata": {
        "id": "Fm7HK8sklyDN"
      },
      "execution_count": 4,
      "outputs": []
    },
    {
      "cell_type": "code",
      "source": [
        "print(spark)"
      ],
      "metadata": {
        "colab": {
          "base_uri": "https://localhost:8080/"
        },
        "id": "RLa_hpnQmh1l",
        "outputId": "c143effd-0022-4f32-e3a0-b1cb77e9354c"
      },
      "execution_count": 5,
      "outputs": [
        {
          "output_type": "stream",
          "name": "stdout",
          "text": [
            "<pyspark.sql.session.SparkSession object at 0x7d1c8a16ced0>\n"
          ]
        }
      ]
    },
    {
      "cell_type": "code",
      "source": [
        "from pyspark.sql import Row\n",
        "\n",
        "# Creating sample data\n",
        "data = [\n",
        "    Row(Component_ID=1, Material=\"Steel\", Weight_kg=12.5),\n",
        "    Row(Component_ID=2, Material=\"Aluminum\", Weight_kg=5.3),\n",
        "    Row(Component_ID=3, Material=\"Titanium\", Weight_kg=3.8),\n",
        "    Row(Component_ID=4, Material=\"Copper\", Weight_kg=9.2),\n",
        "    Row(Component_ID=5, Material=\"Brass\", Weight_kg=7.5)\n",
        "]\n",
        "\n",
        "# Converting list into a DataFrame\n",
        "df = spark.createDataFrame(data)\n",
        "\n",
        "# Show the DataFrame\n",
        "df.show()\n"
      ],
      "metadata": {
        "colab": {
          "base_uri": "https://localhost:8080/"
        },
        "id": "nm3CLJfhmzPm",
        "outputId": "0f046809-06c6-4351-bae9-74d680360272"
      },
      "execution_count": 6,
      "outputs": [
        {
          "output_type": "stream",
          "name": "stdout",
          "text": [
            "+------------+--------+---------+\n",
            "|Component_ID|Material|Weight_kg|\n",
            "+------------+--------+---------+\n",
            "|           1|   Steel|     12.5|\n",
            "|           2|Aluminum|      5.3|\n",
            "|           3|Titanium|      3.8|\n",
            "|           4|  Copper|      9.2|\n",
            "|           5|   Brass|      7.5|\n",
            "+------------+--------+---------+\n",
            "\n"
          ]
        }
      ]
    },
    {
      "cell_type": "code",
      "source": [
        "from pyspark.sql import Row\n"
      ],
      "metadata": {
        "id": "CfzYhiw2m7hb"
      },
      "execution_count": 7,
      "outputs": []
    },
    {
      "cell_type": "code",
      "source": [
        "data = [\n",
        "    Row(Component_ID=1, Material=\"Steel\", Weight_kg=12.5),\n",
        "    Row(Component_ID=2, Material=\"Aluminum\", Weight_kg=5.3),\n",
        "    Row(Component_ID=3, Material=\"Titanium\", Weight_kg=3.8),\n",
        "    Row(Component_ID=4, Material=\"Copper\", Weight_kg=9.2),\n",
        "    Row(Component_ID=5, Material=\"Brass\", Weight_kg=7.5)\n",
        "]\n"
      ],
      "metadata": {
        "id": "tq-8548ZnCPB"
      },
      "execution_count": 8,
      "outputs": []
    },
    {
      "cell_type": "code",
      "source": [
        "df = spark.createDataFrame(data)\n"
      ],
      "metadata": {
        "id": "cBdRN4FNnKd4"
      },
      "execution_count": 9,
      "outputs": []
    },
    {
      "cell_type": "code",
      "source": [
        "df.show()\n"
      ],
      "metadata": {
        "colab": {
          "base_uri": "https://localhost:8080/"
        },
        "id": "SGqYvR73nNza",
        "outputId": "f2076421-d2b4-4ac5-c5e7-2508fc849c39"
      },
      "execution_count": 10,
      "outputs": [
        {
          "output_type": "stream",
          "name": "stdout",
          "text": [
            "+------------+--------+---------+\n",
            "|Component_ID|Material|Weight_kg|\n",
            "+------------+--------+---------+\n",
            "|           1|   Steel|     12.5|\n",
            "|           2|Aluminum|      5.3|\n",
            "|           3|Titanium|      3.8|\n",
            "|           4|  Copper|      9.2|\n",
            "|           5|   Brass|      7.5|\n",
            "+------------+--------+---------+\n",
            "\n"
          ]
        }
      ]
    },
    {
      "cell_type": "code",
      "source": [
        "df.select(\"Material\", \"Weight_kg\").show()\n"
      ],
      "metadata": {
        "colab": {
          "base_uri": "https://localhost:8080/"
        },
        "id": "-ccGshoQncpm",
        "outputId": "9569b1fa-616f-4512-a3b6-13005fb6dc27"
      },
      "execution_count": 11,
      "outputs": [
        {
          "output_type": "stream",
          "name": "stdout",
          "text": [
            "+--------+---------+\n",
            "|Material|Weight_kg|\n",
            "+--------+---------+\n",
            "|   Steel|     12.5|\n",
            "|Aluminum|      5.3|\n",
            "|Titanium|      3.8|\n",
            "|  Copper|      9.2|\n",
            "|   Brass|      7.5|\n",
            "+--------+---------+\n",
            "\n"
          ]
        }
      ]
    },
    {
      "cell_type": "code",
      "source": [
        "df.filter(df.Weight_kg > 5).show()\n"
      ],
      "metadata": {
        "colab": {
          "base_uri": "https://localhost:8080/"
        },
        "id": "NQ60k_MDniWZ",
        "outputId": "e1313e46-97f8-4f57-8226-a3e40a8ab77f"
      },
      "execution_count": 12,
      "outputs": [
        {
          "output_type": "stream",
          "name": "stdout",
          "text": [
            "+------------+--------+---------+\n",
            "|Component_ID|Material|Weight_kg|\n",
            "+------------+--------+---------+\n",
            "|           1|   Steel|     12.5|\n",
            "|           2|Aluminum|      5.3|\n",
            "|           4|  Copper|      9.2|\n",
            "|           5|   Brass|      7.5|\n",
            "+------------+--------+---------+\n",
            "\n"
          ]
        }
      ]
    },
    {
      "cell_type": "code",
      "source": [
        "df.orderBy(\"Weight_kg\").show()\n"
      ],
      "metadata": {
        "colab": {
          "base_uri": "https://localhost:8080/"
        },
        "id": "y4J8JoEDnmr7",
        "outputId": "6403e49f-75c2-4b18-bbae-128d362e999d"
      },
      "execution_count": 13,
      "outputs": [
        {
          "output_type": "stream",
          "name": "stdout",
          "text": [
            "+------------+--------+---------+\n",
            "|Component_ID|Material|Weight_kg|\n",
            "+------------+--------+---------+\n",
            "|           3|Titanium|      3.8|\n",
            "|           2|Aluminum|      5.3|\n",
            "|           5|   Brass|      7.5|\n",
            "|           4|  Copper|      9.2|\n",
            "|           1|   Steel|     12.5|\n",
            "+------------+--------+---------+\n",
            "\n"
          ]
        }
      ]
    },
    {
      "cell_type": "code",
      "source": [
        "df.count()\n"
      ],
      "metadata": {
        "colab": {
          "base_uri": "https://localhost:8080/"
        },
        "id": "De5JJWjOnrH0",
        "outputId": "7e373ec9-4e2b-4217-e2a9-f5e20a94da10"
      },
      "execution_count": 14,
      "outputs": [
        {
          "output_type": "execute_result",
          "data": {
            "text/plain": [
              "5"
            ]
          },
          "metadata": {},
          "execution_count": 14
        }
      ]
    },
    {
      "cell_type": "code",
      "source": [
        "df.write.csv(\"components_data.csv\", header=True)\n"
      ],
      "metadata": {
        "id": "IL4pxPL2n0u5"
      },
      "execution_count": 15,
      "outputs": []
    },
    {
      "cell_type": "code",
      "source": [
        "df_loaded = spark.read.csv(\"components_data.csv\", header=True, inferSchema=True)\n",
        "df_loaded.show()\n"
      ],
      "metadata": {
        "colab": {
          "base_uri": "https://localhost:8080/"
        },
        "id": "_2nw2TJYoBHA",
        "outputId": "a9f4aab2-f61d-44af-ca6a-be0332ea2625"
      },
      "execution_count": 16,
      "outputs": [
        {
          "output_type": "stream",
          "name": "stdout",
          "text": [
            "+------------+--------+---------+\n",
            "|Component_ID|Material|Weight_kg|\n",
            "+------------+--------+---------+\n",
            "|           3|Titanium|      3.8|\n",
            "|           4|  Copper|      9.2|\n",
            "|           5|   Brass|      7.5|\n",
            "|           1|   Steel|     12.5|\n",
            "|           2|Aluminum|      5.3|\n",
            "+------------+--------+---------+\n",
            "\n"
          ]
        }
      ]
    }
  ]
}